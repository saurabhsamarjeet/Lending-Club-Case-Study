{
 "cells": [
  {
   "cell_type": "markdown",
   "id": "7827bcbb-ce87-493b-9bf4-e8247c83b6c5",
   "metadata": {},
   "source": [
    "### Importing Libraries"
   ]
  },
  {
   "cell_type": "code",
   "execution_count": 5,
   "id": "0170459d-074e-45e6-bac4-4a1535fe3c3b",
   "metadata": {},
   "outputs": [],
   "source": [
    "##importing Libraries for data manipulation\n",
    "import pandas as pd #dataframe\n",
    "import numpy as np #numerical python\n",
    "import seaborn as sns #data visualization\n",
    "import matplotlib.pyplot as plt #plotting\n",
    "import plotly.express as px #plotting\n",
    "\n",
    "\n",
    "# Warnings library will be used to ignore some warnings\n",
    "import warnings #warning\n",
    "warnings.filterwarnings('ignore')"
   ]
  },
  {
   "cell_type": "markdown",
   "id": "33f9443f-93ad-46c7-9b83-61a1303e9a5b",
   "metadata": {},
   "source": [
    "## Loading the DATA"
   ]
  },
  {
   "cell_type": "code",
   "execution_count": 6,
   "id": "3c20c940-79c0-4621-a972-f88441840ebf",
   "metadata": {},
   "outputs": [],
   "source": [
    "loan_data = pd.read_csv('loan.csv')\n",
    "loan_dd = pd.read_excel('Data_Dictionary.xlsx')"
   ]
  },
  {
   "cell_type": "code",
   "execution_count": null,
   "id": "9269e73b-2bfb-44f3-ba9f-f6431d0ee577",
   "metadata": {},
   "outputs": [],
   "source": []
  }
 ],
 "metadata": {
  "kernelspec": {
   "display_name": "Python 3 (ipykernel)",
   "language": "python",
   "name": "python3"
  },
  "language_info": {
   "codemirror_mode": {
    "name": "ipython",
    "version": 3
   },
   "file_extension": ".py",
   "mimetype": "text/x-python",
   "name": "python",
   "nbconvert_exporter": "python",
   "pygments_lexer": "ipython3",
   "version": "3.11.7"
  }
 },
 "nbformat": 4,
 "nbformat_minor": 5
}
